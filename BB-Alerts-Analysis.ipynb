{
 "cells": [
  {
   "cell_type": "code",
   "execution_count": 1,
   "metadata": {},
   "outputs": [],
   "source": [
    "from pathlib import Path, PureWindowsPath\n",
    "import pandas as pd\n",
    "import numpy as np"
   ]
  },
  {
   "cell_type": "code",
   "execution_count": 2,
   "metadata": {},
   "outputs": [
    {
     "output_type": "stream",
     "name": "stdout",
     "text": "/Users/swiftteamsix/Dropbox/Business/Yolo Capital/Options Alerts Dump/Options Alerts\n"
    }
   ],
   "source": [
    "data_folder = Path.cwd() / \"Options Alerts Dump\" / \"Options Alerts\"\n",
    "path_on_windows = PureWindowsPath(data_folder)\n",
    "\n",
    "print(data_folder)"
   ]
  },
  {
   "cell_type": "code",
   "execution_count": 3,
   "metadata": {},
   "outputs": [
    {
     "output_type": "stream",
     "name": "stdout",
     "text": "[PosixPath('/Users/swiftteamsix/Dropbox/Business/Yolo Capital/Options Alerts Dump/Options Alerts/OptionAlerts 4-28.csv'), PosixPath('/Users/swiftteamsix/Dropbox/Business/Yolo Capital/Options Alerts Dump/Options Alerts/OptionAlerts 4-29.csv'), PosixPath('/Users/swiftteamsix/Dropbox/Business/Yolo Capital/Options Alerts Dump/Options Alerts/OptionAlerts 5-8.csv'), PosixPath('/Users/swiftteamsix/Dropbox/Business/Yolo Capital/Options Alerts Dump/Options Alerts/OptionAlerts 5-7.csv'), PosixPath('/Users/swiftteamsix/Dropbox/Business/Yolo Capital/Options Alerts Dump/Options Alerts/OptionAlerts 5-6.csv'), PosixPath('/Users/swiftteamsix/Dropbox/Business/Yolo Capital/Options Alerts Dump/Options Alerts/OptionAlerts 5-15.csv'), PosixPath('/Users/swiftteamsix/Dropbox/Business/Yolo Capital/Options Alerts Dump/Options Alerts/OptionAlerts 5-4.csv'), PosixPath('/Users/swiftteamsix/Dropbox/Business/Yolo Capital/Options Alerts Dump/Options Alerts/OptionAlerts 5-5.csv'), PosixPath('/Users/swiftteamsix/Dropbox/Business/Yolo Capital/Options Alerts Dump/Options Alerts/OptionAlerts 5-14.csv'), PosixPath('/Users/swiftteamsix/Dropbox/Business/Yolo Capital/Options Alerts Dump/Options Alerts/OptionAlerts 5-1.csv'), PosixPath('/Users/swiftteamsix/Dropbox/Business/Yolo Capital/Options Alerts Dump/Options Alerts/OptionAlerts 5-11.csv'), PosixPath('/Users/swiftteamsix/Dropbox/Business/Yolo Capital/Options Alerts Dump/Options Alerts/OptionAlerts 5-13.csv'), PosixPath('/Users/swiftteamsix/Dropbox/Business/Yolo Capital/Options Alerts Dump/Options Alerts/OptionAlerts 5-12.csv'), PosixPath('/Users/swiftteamsix/Dropbox/Business/Yolo Capital/Options Alerts Dump/Options Alerts/OptionAlerts 4-21.csv'), PosixPath('/Users/swiftteamsix/Dropbox/Business/Yolo Capital/Options Alerts Dump/Options Alerts/OptionAlerts 4-22.csv'), PosixPath('/Users/swiftteamsix/Dropbox/Business/Yolo Capital/Options Alerts Dump/Options Alerts/OptionAlerts 4-23.csv'), PosixPath('/Users/swiftteamsix/Dropbox/Business/Yolo Capital/Options Alerts Dump/Options Alerts/OptionAlerts 4-27.csv'), PosixPath('/Users/swiftteamsix/Dropbox/Business/Yolo Capital/Options Alerts Dump/Options Alerts/OptionAlerts 4-24.csv'), PosixPath('/Users/swiftteamsix/Dropbox/Business/Yolo Capital/Options Alerts Dump/Options Alerts/OptionAlerts 4-30.csv')]\n"
    }
   ],
   "source": [
    "excel_files = [file for file in data_folder.iterdir() if file.suffix == \".csv\"]\n",
    "result = []\n",
    "\n",
    "print(excel_files)\n"
   ]
  },
  {
   "cell_type": "code",
   "execution_count": 4,
   "metadata": {},
   "outputs": [
    {
     "output_type": "execute_result",
     "data": {
      "text/plain": "     C/P            DETAILS  ALERT   HIGH   LAST   %GAIN\n0   CALL      Swift_Bullish   0.24   0.62   0.57  159.41\n1    PUT   Roulette_Bearish   2.30   5.10   4.93  121.74\n2   CALL  Rapidfire_Bullish   0.25   0.51   0.17  104.00\n3    PUT   Roulette_Bearish   1.49   2.84   2.80   90.35\n4   CALL   Repeater_Bullish   0.40   0.62   0.57   55.00\n..   ...                ...    ...    ...    ...     ...\n22  CALL   Roulette_Bullish   0.65   0.70   0.56    8.19\n23  CALL   Repeater_Bullish   2.03   2.11   1.84    3.94\n24  CALL   Roulette_Bullish  49.00  49.35  47.10    0.71\n25  CALL      Large_Bullish  49.00  49.35  47.10    0.71\n26   PUT   Repeater_Bearish   2.34   2.35   2.25    0.43\n\n[319 rows x 6 columns]",
      "text/html": "<div>\n<style scoped>\n    .dataframe tbody tr th:only-of-type {\n        vertical-align: middle;\n    }\n\n    .dataframe tbody tr th {\n        vertical-align: top;\n    }\n\n    .dataframe thead th {\n        text-align: right;\n    }\n</style>\n<table border=\"1\" class=\"dataframe\">\n  <thead>\n    <tr style=\"text-align: right;\">\n      <th></th>\n      <th>C/P</th>\n      <th>DETAILS</th>\n      <th>ALERT</th>\n      <th>HIGH</th>\n      <th>LAST</th>\n      <th>%GAIN</th>\n    </tr>\n  </thead>\n  <tbody>\n    <tr>\n      <th>0</th>\n      <td>CALL</td>\n      <td>Swift_Bullish</td>\n      <td>0.24</td>\n      <td>0.62</td>\n      <td>0.57</td>\n      <td>159.41</td>\n    </tr>\n    <tr>\n      <th>1</th>\n      <td>PUT</td>\n      <td>Roulette_Bearish</td>\n      <td>2.30</td>\n      <td>5.10</td>\n      <td>4.93</td>\n      <td>121.74</td>\n    </tr>\n    <tr>\n      <th>2</th>\n      <td>CALL</td>\n      <td>Rapidfire_Bullish</td>\n      <td>0.25</td>\n      <td>0.51</td>\n      <td>0.17</td>\n      <td>104.00</td>\n    </tr>\n    <tr>\n      <th>3</th>\n      <td>PUT</td>\n      <td>Roulette_Bearish</td>\n      <td>1.49</td>\n      <td>2.84</td>\n      <td>2.80</td>\n      <td>90.35</td>\n    </tr>\n    <tr>\n      <th>4</th>\n      <td>CALL</td>\n      <td>Repeater_Bullish</td>\n      <td>0.40</td>\n      <td>0.62</td>\n      <td>0.57</td>\n      <td>55.00</td>\n    </tr>\n    <tr>\n      <th>...</th>\n      <td>...</td>\n      <td>...</td>\n      <td>...</td>\n      <td>...</td>\n      <td>...</td>\n      <td>...</td>\n    </tr>\n    <tr>\n      <th>22</th>\n      <td>CALL</td>\n      <td>Roulette_Bullish</td>\n      <td>0.65</td>\n      <td>0.70</td>\n      <td>0.56</td>\n      <td>8.19</td>\n    </tr>\n    <tr>\n      <th>23</th>\n      <td>CALL</td>\n      <td>Repeater_Bullish</td>\n      <td>2.03</td>\n      <td>2.11</td>\n      <td>1.84</td>\n      <td>3.94</td>\n    </tr>\n    <tr>\n      <th>24</th>\n      <td>CALL</td>\n      <td>Roulette_Bullish</td>\n      <td>49.00</td>\n      <td>49.35</td>\n      <td>47.10</td>\n      <td>0.71</td>\n    </tr>\n    <tr>\n      <th>25</th>\n      <td>CALL</td>\n      <td>Large_Bullish</td>\n      <td>49.00</td>\n      <td>49.35</td>\n      <td>47.10</td>\n      <td>0.71</td>\n    </tr>\n    <tr>\n      <th>26</th>\n      <td>PUT</td>\n      <td>Repeater_Bearish</td>\n      <td>2.34</td>\n      <td>2.35</td>\n      <td>2.25</td>\n      <td>0.43</td>\n    </tr>\n  </tbody>\n</table>\n<p>319 rows × 6 columns</p>\n</div>"
     },
     "metadata": {},
     "execution_count": 4
    }
   ],
   "source": [
    "for individual_files in excel_files:\n",
    "    data = pd.read_csv(individual_files)\n",
    "    result.append(data)\n",
    "\n",
    "new_df = pd.concat(result)\n",
    "new_df = new_df.iloc[:, 0:10]\n",
    "new_df.drop([\"SYMBOL\", \"TIME\", \"EXP\", \"STRIKE\"], axis=1, inplace=True)\n",
    "\n",
    "new_df"
   ]
  },
  {
   "cell_type": "code",
   "execution_count": 5,
   "metadata": {},
   "outputs": [
    {
     "output_type": "stream",
     "name": "stdout",
     "text": "Large_Bullish\n            ALERT        HIGH        LAST      %GAIN\ncount    9.000000    9.000000    9.000000   9.000000\nmean    76.377778   80.914444   79.283333   8.217778\nstd     76.477389   79.687646   78.019652   6.734187\nmin      0.720000    0.830000    0.780000   0.110000\n25%      4.150000    4.400000    4.200000   1.530000\n50%     49.000000   58.100000   56.800000   8.330000\n75%    143.840000  160.000000  156.500000  11.520000\nmax    210.270000  210.500000  203.300000  19.230000\nRapidfire_Bullish\n           ALERT       HIGH       LAST       %GAIN\ncount  16.000000  16.000000  16.000000   16.000000\nmean    1.897500   2.340000   1.895625   43.057500\nstd     2.740578   2.854061   2.635332   51.357929\nmin     0.250000   0.500000   0.170000    0.890000\n25%     0.540000   0.792500   0.465000   17.540000\n50%     0.715000   0.950000   0.865000   23.620000\n75%     2.592500   3.162500   1.952500   44.792500\nmax    11.400000  11.500000  10.500000  208.110000\nRepeater_Bearish\n           ALERT       HIGH       LAST       %GAIN\ncount  39.000000  39.000000  39.000000   39.000000\nmean    2.455641   6.753333   5.280513   56.065641\nstd     4.683826  19.999335  16.597107   87.082176\nmin     0.170000   0.200000   0.010000    0.430000\n25%     0.435000   0.555000   0.390000    8.840000\n50%     0.810000   1.120000   0.790000   25.000000\n75%     1.715000   2.770000   2.035000   59.730000\nmax    21.190000  95.850000  81.000000  352.380000\nRepeater_Bullish\n           ALERT       HIGH       LAST       %GAIN\ncount  71.000000  71.000000  71.000000   71.000000\nmean    2.510141   3.028451   2.338451   32.067042\nstd     5.834177   5.953868   5.374603   39.796217\nmin     0.250000   0.330000   0.010000    0.600000\n25%     0.655000   0.840000   0.575000    7.080000\n50%     1.300000   1.470000   0.860000   13.700000\n75%     1.995000   2.690000   2.055000   47.295000\nmax    46.570000  46.850000  42.000000  215.150000\nRoulette_Bearish\n           ALERT       HIGH       LAST        %GAIN\ncount  77.000000  77.000000  77.000000    77.000000\nmean    3.788961   5.679740   4.503636    50.754675\nstd     7.512167  11.178845  10.173566   120.776010\nmin     0.400000   0.500000   0.010000     0.000000\n25%     1.100000   1.600000   0.870000     6.670000\n50%     2.010000   2.750000   1.950000    23.750000\n75%     3.900000   5.200000   3.300000    58.330000\nmax    63.100000  74.550000  63.300000  1028.210000\nRoulette_Bullish\n           ALERT       HIGH       LAST       %GAIN\ncount  58.000000  58.000000  58.000000   58.000000\nmean    5.895862   7.546379   5.898448   50.401379\nstd    11.402691  12.358689  11.573070   63.026409\nmin     0.490000   0.700000   0.160000    0.000000\n25%     1.300000   2.330000   1.477500    7.402500\n50%     2.970000   3.875000   2.760000   26.330000\n75%     4.475000   5.975000   4.362500   63.697500\nmax    68.050000  68.800000  68.300000  318.350000\nSteady_Bullish\n           ALERT       HIGH       LAST      %GAIN\ncount  28.000000  28.000000  28.000000  28.000000\nmean    1.442500   1.720357   1.400000  31.715714\nstd     2.013919   2.135507   1.984996  26.634152\nmin     0.220000   0.350000   0.150000   0.000000\n25%     0.500000   0.550000   0.465000  10.000000\n50%     0.655000   0.885000   0.670000  26.010000\n75%     1.560000   2.087500   1.435000  47.397500\nmax     8.300000   8.800000   8.210000  90.910000\nSwift_Bullish\n           ALERT       HIGH       LAST       %GAIN\ncount  21.000000  21.000000  21.000000   21.000000\nmean    1.295238   1.615714   1.448095   38.079524\nstd     1.155957   1.345662   1.371177   43.722018\nmin     0.240000   0.280000   0.260000    4.050000\n25%     0.500000   0.750000   0.570000   11.520000\n50%     0.740000   1.140000   0.770000   18.640000\n75%     1.650000   2.110000   2.050000   47.350000\nmax     5.190000   6.400000   6.400000  159.410000\n"
    }
   ],
   "source": [
    "for key,group_df in new_df.groupby(\"DETAILS\"):\n",
    "    print(key)\n",
    "    print(group_df.describe())\n",
    "\n",
    "    \n"
   ]
  },
  {
   "cell_type": "code",
   "execution_count": 6,
   "metadata": {},
   "outputs": [
    {
     "output_type": "execute_result",
     "data": {
      "text/plain": "                  %GAIN                    \n                  count      max       mean\nDETAILS                                    \nLarge_Bullish         9    19.23   8.217778\nRapidfire_Bullish    16   208.11  43.057500\nRepeater_Bearish     39   352.38  56.065641\nRepeater_Bullish     71   215.15  32.067042\nRoulette_Bearish     77  1028.21  50.754675\nRoulette_Bullish     58   318.35  50.401379\nSteady_Bullish       28    90.91  31.715714\nSwift_Bullish        21   159.41  38.079524",
      "text/html": "<div>\n<style scoped>\n    .dataframe tbody tr th:only-of-type {\n        vertical-align: middle;\n    }\n\n    .dataframe tbody tr th {\n        vertical-align: top;\n    }\n\n    .dataframe thead tr th {\n        text-align: left;\n    }\n\n    .dataframe thead tr:last-of-type th {\n        text-align: right;\n    }\n</style>\n<table border=\"1\" class=\"dataframe\">\n  <thead>\n    <tr>\n      <th></th>\n      <th colspan=\"3\" halign=\"left\">%GAIN</th>\n    </tr>\n    <tr>\n      <th></th>\n      <th>count</th>\n      <th>max</th>\n      <th>mean</th>\n    </tr>\n    <tr>\n      <th>DETAILS</th>\n      <th></th>\n      <th></th>\n      <th></th>\n    </tr>\n  </thead>\n  <tbody>\n    <tr>\n      <th>Large_Bullish</th>\n      <td>9</td>\n      <td>19.23</td>\n      <td>8.217778</td>\n    </tr>\n    <tr>\n      <th>Rapidfire_Bullish</th>\n      <td>16</td>\n      <td>208.11</td>\n      <td>43.057500</td>\n    </tr>\n    <tr>\n      <th>Repeater_Bearish</th>\n      <td>39</td>\n      <td>352.38</td>\n      <td>56.065641</td>\n    </tr>\n    <tr>\n      <th>Repeater_Bullish</th>\n      <td>71</td>\n      <td>215.15</td>\n      <td>32.067042</td>\n    </tr>\n    <tr>\n      <th>Roulette_Bearish</th>\n      <td>77</td>\n      <td>1028.21</td>\n      <td>50.754675</td>\n    </tr>\n    <tr>\n      <th>Roulette_Bullish</th>\n      <td>58</td>\n      <td>318.35</td>\n      <td>50.401379</td>\n    </tr>\n    <tr>\n      <th>Steady_Bullish</th>\n      <td>28</td>\n      <td>90.91</td>\n      <td>31.715714</td>\n    </tr>\n    <tr>\n      <th>Swift_Bullish</th>\n      <td>21</td>\n      <td>159.41</td>\n      <td>38.079524</td>\n    </tr>\n  </tbody>\n</table>\n</div>"
     },
     "metadata": {},
     "execution_count": 6
    }
   ],
   "source": [
    "grouped_df = new_df.groupby(\"DETAILS\").agg({\"%GAIN\":['count', 'max', 'mean']})\n",
    "\n",
    "grouped_df"
   ]
  },
  {
   "cell_type": "code",
   "execution_count": 7,
   "metadata": {},
   "outputs": [],
   "source": [
    "grouped_df.to_excel(\"BB Alert Result Statistics.xlsx\")"
   ]
  },
  {
   "cell_type": "code",
   "execution_count": null,
   "metadata": {},
   "outputs": [],
   "source": []
  }
 ],
 "metadata": {
  "kernelspec": {
   "display_name": "Python 3.7.7 64-bit",
   "language": "python",
   "name": "python37764bit5c783aa86a794c5e91487978d9a6a197"
  },
  "language_info": {
   "codemirror_mode": {
    "name": "ipython",
    "version": 3
   },
   "file_extension": ".py",
   "mimetype": "text/x-python",
   "name": "python",
   "nbconvert_exporter": "python",
   "pygments_lexer": "ipython3",
   "version": "3.7.7-final"
  }
 },
 "nbformat": 4,
 "nbformat_minor": 4
}